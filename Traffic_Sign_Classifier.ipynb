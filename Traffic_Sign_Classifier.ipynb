{
 "cells": [
  {
   "cell_type": "markdown",
   "metadata": {
    "deletable": true,
    "editable": true
   },
   "source": [
    "# Self-Driving Car Engineer Nanodegree\n",
    "\n",
    "## Deep Learning\n",
    "\n",
    "## Project: Build a Traffic Sign Recognition Classifier\n",
    "\n",
    "In this notebook, a template is provided for you to implement your functionality in stages, which is required to successfully complete this project. If additional code is required that cannot be included in the notebook, be sure that the Python code is successfully imported and included in your submission if necessary. \n",
    "\n",
    "> **Note**: Once you have completed all of the code implementations, you need to finalize your work by exporting the iPython Notebook as an HTML document. Before exporting the notebook to html, all of the code cells need to have been run so that reviewers can see the final implementation and output. You can then export the notebook by using the menu above and navigating to  \\n\",\n",
    "    \"**File -> Download as -> HTML (.html)**. Include the finished document along with this notebook as your submission. \n",
    "\n",
    "In addition to implementing code, there is a writeup to complete. The writeup should be completed in a separate file, which can be either a markdown file or a pdf document. There is a [write up template](https://github.com/udacity/CarND-Traffic-Sign-Classifier-Project/blob/master/writeup_template.md) that can be used to guide the writing process. Completing the code template and writeup template will cover all of the [rubric points](https://review.udacity.com/#!/rubrics/481/view) for this project.\n",
    "\n",
    "The [rubric](https://review.udacity.com/#!/rubrics/481/view) contains \"Stand Out Suggestions\" for enhancing the project beyond the minimum requirements. The stand out suggestions are optional. If you decide to pursue the \"stand out suggestions\", you can include the code in this Ipython notebook and also discuss the results in the writeup file.\n",
    "\n",
    "\n",
    ">**Note:** Code and Markdown cells can be executed using the **Shift + Enter** keyboard shortcut. In addition, Markdown cells can be edited by typically double-clicking the cell to enter edit mode."
   ]
  },
  {
   "cell_type": "markdown",
   "metadata": {
    "deletable": true,
    "editable": true
   },
   "source": [
    "---\n",
    "## Step 0: Load The Data"
   ]
  },
  {
   "cell_type": "code",
   "execution_count": 1,
   "metadata": {
    "collapsed": false,
    "deletable": true,
    "editable": true
   },
   "outputs": [],
   "source": [
    "#SN: Traffic sign data does not come with a validation set unlike MNIST data for LeNet lab.\n",
    "#    Use train_test_split function in sklearn library to slice off the validation set from the training set.\n",
    "#    20% of the training set to become the validation set seems appropriate\n",
    "#SN??: Why seems like there is valid.p in the project 2 package.\n",
    "\n",
    "# Load pickled data\n",
    "import pickle\n",
    "\n",
    "# TODO: Fill this in based on where you saved the training and testing data\n",
    "training_file = \"/Users/sirinnitinawarat/Documents/Udacity-ML/Self-Driving Car/CarND-Traffic-Sign-Classifier-Project/traffic-signs-data/train.p\"\n",
    "validation_file=\"/Users/sirinnitinawarat/Documents/Udacity-ML/Self-Driving Car/CarND-Traffic-Sign-Classifier-Project/traffic-signs-data/valid.p\"\n",
    "testing_file = \"/Users/sirinnitinawarat/Documents/Udacity-ML/Self-Driving Car/CarND-Traffic-Sign-Classifier-Project/traffic-signs-data/test.p\"\n",
    "\n",
    "with open(training_file, mode='rb') as f:\n",
    "    train = pickle.load(f)\n",
    "with open(validation_file, mode='rb') as f:\n",
    "    valid = pickle.load(f)\n",
    "with open(testing_file, mode='rb') as f:\n",
    "    test = pickle.load(f)\n",
    "    \n",
    "X_train, y_train = train['features'], train['labels']\n",
    "# SN: Note the different from LeNet-Lab-Solution (X_valid, y_valid and X_validation, y_validation)\n",
    "X_valid, y_valid = valid['features'], valid['labels']\n",
    "X_test, y_test = test['features'], test['labels']"
   ]
  },
  {
   "cell_type": "markdown",
   "metadata": {
    "deletable": true,
    "editable": true
   },
   "source": [
    "---\n",
    "\n",
    "## Step 1: Dataset Summary & Exploration\n",
    "\n",
    "The pickled data is a dictionary with 4 key/value pairs:\n",
    "\n",
    "- `'features'` is a 4D array containing raw pixel data of the traffic sign images, (num examples, width, height, channels).\n",
    "- `'labels'` is a 1D array containing the label/class id of the traffic sign. The file `signnames.csv` contains id -> name mappings for each id.\n",
    "- `'sizes'` is a list containing tuples, (width, height) representing the original width and height the image.\n",
    "- `'coords'` is a list containing tuples, (x1, y1, x2, y2) representing coordinates of a bounding box around the sign in the image. **THESE COORDINATES ASSUME THE ORIGINAL IMAGE. THE PICKLED DATA CONTAINS RESIZED VERSIONS (32 by 32) OF THESE IMAGES**\n",
    "\n",
    "Complete the basic data summary below. Use python, numpy and/or pandas methods to calculate the data summary rather than hard coding the results. For example, the [pandas shape method](http://pandas.pydata.org/pandas-docs/stable/generated/pandas.DataFrame.shape.html) might be useful for calculating some of the summary results. "
   ]
  },
  {
   "cell_type": "markdown",
   "metadata": {
    "deletable": true,
    "editable": true
   },
   "source": [
    "###### Provide a Basic Summary of the Data Set Using Python, Numpy and/or Pandas"
   ]
  },
  {
   "cell_type": "code",
   "execution_count": 2,
   "metadata": {
    "collapsed": false,
    "deletable": true,
    "editable": true
   },
   "outputs": [
    {
     "name": "stdout",
     "output_type": "stream",
     "text": [
      "42\n",
      "0\n",
      "Number of training examples = 34799\n",
      "Number of validatinging examples = 4410\n",
      "Number of testing examples = 12630\n",
      "Image data shape = (32, 32, 3)\n",
      "Number of classes = 43\n"
     ]
    }
   ],
   "source": [
    "### Replace each question mark with the appropriate value. \n",
    "### Use python, pandas or numpy methods rather than hard coding the results\n",
    "import numpy as np\n",
    "\n",
    "# TODO: Number of training examples\n",
    "assert(len(X_train) == len(y_train))\n",
    "assert(len(X_valid) == len(y_valid))\n",
    "assert(len(X_test) == len(y_test))\n",
    "\n",
    "#n_train = (X_train.shape)[0]\n",
    "n_train = len(X_train)\n",
    "\n",
    "n_valid = len(X_valid)\n",
    "# TODO: Number of testing examples.\n",
    "#n_test = (X_test.shape)[0]\n",
    "n_test = len(X_test)\n",
    "\n",
    "\n",
    "# TODO: What's the shape of an traffic sign image?\n",
    "#image_shape = X_train.shape[1:4]\n",
    "image_shape = X_train[0].shape\n",
    "\n",
    "# TODO: How many unique classes/labels there are in the dataset.\n",
    "print(np.max(np.concatenate((y_train, y_test, y_valid), axis=0)))\n",
    "print(np.min(np.concatenate((y_train, y_test, y_valid), axis=0)))\n",
    "n_classes = np.max(np.concatenate((y_train, y_test, y_valid), axis=0)) + 1\n",
    "#print(np.concatenate((y_train, y_test, y_valid), axis=0)[201:301])\n",
    "\n",
    "assert(len(np.concatenate((y_train, y_test, y_valid), axis=0)) == (len(y_train)+len(y_test)+len(y_valid)))\n",
    "\n",
    "print(\"Number of training examples =\", n_train)\n",
    "print(\"Number of validatinging examples =\", n_valid)\n",
    "print(\"Number of testing examples =\", n_test)\n",
    "print(\"Image data shape =\", image_shape)\n",
    "print(\"Number of classes =\", n_classes)\n",
    "#print(X_train.shape[0])\n",
    "#print(X_train[:10].shape)"
   ]
  },
  {
   "cell_type": "markdown",
   "metadata": {
    "deletable": true,
    "editable": true
   },
   "source": [
    "### Include an exploratory visualization of the dataset"
   ]
  },
  {
   "cell_type": "markdown",
   "metadata": {
    "deletable": true,
    "editable": true
   },
   "source": [
    "Visualize the German Traffic Signs Dataset using the pickled file(s). This is open ended, suggestions include: plotting traffic sign images, plotting the count of each sign, etc.\n",
    "\n",
    "The [Matplotlib](http://matplotlib.org/) [examples](http://matplotlib.org/examples/index.html) and [gallery](http://matplotlib.org/gallery.html) pages are a great resource for doing visualizations in Python.\n",
    "\n",
    "**NOTE:** It's recommended you start with something simple first. If you wish to do more, come back to it after you've completed the rest of the sections."
   ]
  },
  {
   "cell_type": "code",
   "execution_count": 3,
   "metadata": {
    "collapsed": false,
    "deletable": true,
    "editable": true
   },
   "outputs": [
    {
     "name": "stdout",
     "output_type": "stream",
     "text": [
      "14\n"
     ]
    },
    {
     "data": {
      "image/png": "[encoded data removed]",
      "text/plain": [
       "<matplotlib.figure.Figure at 0x109688eb8>"
      ]
     },
     "metadata": {},
     "output_type": "display_data"
    }
   ],
   "source": [
    "#SN: TODO: Compare the picture with text description of the resulting class in the csv file in the github \n",
    "\n",
    "### Data exploration visualization code goes here.\n",
    "### Feel free to use as many code cells as needed.\n",
    "import matplotlib.pyplot as plt\n",
    "# Visualizations will be shown in the notebook.\n",
    "%matplotlib inline\n",
    "\n",
    "import random\n",
    "import numpy as np\n",
    "\n",
    "index = random.randint(0, len(X_train))\n",
    "image = X_train[index].squeeze()\n",
    "#image = X_train[100].squeeze()\n",
    "\n",
    "plt.figure(figsize=(5,5))\n",
    "plt.imshow(image)\n",
    "#plt.imshow(image, cmap=\"gray\")\n",
    "print(y_train[index])"
   ]
  },
  {
   "cell_type": "markdown",
   "metadata": {
    "deletable": true,
    "editable": true
   },
   "source": [
    "----\n",
    "\n",
    "## Step 2: Design and Test a Model Architecture\n",
    "\n",
    "Design and implement a deep learning model that learns to recognize traffic signs. Train and test your model on the [German Traffic Sign Dataset](http://benchmark.ini.rub.de/?section=gtsrb&subsection=dataset).\n",
    "\n",
    "The LeNet-5 [SN??: Why is it version 5?] implementation shown in the [classroom](https://classroom.udacity.com/nanodegrees/nd013/parts/fbf77062-5703-404e-b60c-95b78b2f3f9e/modules/6df7ae49-c61c-4bb2-a23e-6527e69209ec/lessons/601ae704-1035-4287-8b11-e2c2716217ad/concepts/d4aca031-508f-4e0b-b493-e7b706120f81) at the end of the CNN lesson is a solid starting point. You'll have to change the number of classes and possibly the preprocessing, but aside from that it's plug and play! \n",
    "\n",
    "With the LeNet-5 solution from the lecture, you should expect a validation set accuracy of about 0.89. To meet specifications, the validation set accuracy will need to be at least 0.93. It is possible to get an even higher accuracy, but 0.93 is the minimum for a successful project submission. \n",
    "\n",
    "There are various aspects to consider when thinking about this problem:\n",
    "\n",
    "- Neural network architecture (is the network over or underfitting?)\n",
    "- Play around preprocessing techniques (normalization, rgb to grayscale, etc)\n",
    "- Number of examples per label (some have more than others).\n",
    "- Generate fake data. [SN??: What does this mean?]\n",
    "\n",
    "Here is an example of a [published baseline model on this problem](http://yann.lecun.com/exdb/publis/pdf/sermanet-ijcnn-11.pdf). It's not required to be familiar with the approach used in the paper but, it's good practice to try to read papers like these."
   ]
  },
  {
   "cell_type": "markdown",
   "metadata": {
    "deletable": true,
    "editable": true
   },
   "source": [
    "### Pre-process the Data Set (normalization, grayscale, etc.)"
   ]
  },
  {
   "cell_type": "markdown",
   "metadata": {
    "deletable": true,
    "editable": true
   },
   "source": [
    "Use the code cell (or multiple code cells, if necessary) to implement the first step of your project."
   ]
  },
  {
   "cell_type": "code",
   "execution_count": 4,
   "metadata": {
    "collapsed": false,
    "deletable": true,
    "editable": true
   },
   "outputs": [
    {
     "name": "stdout",
     "output_type": "stream",
     "text": [
      "(34799, 32, 32, 1)\n",
      "255\n",
      "38\n",
      "1.0\n",
      "-0.631373\n"
     ]
    },
    {
     "data": {
      "image/png": "[encoded data removed]",
      "text/plain": [
       "<matplotlib.figure.Figure at 0x123265668>"
      ]
     },
     "metadata": {},
     "output_type": "display_data"
    },
    {
     "data": {
      "image/png": "[encoded data removed]",
      "text/plain": [
       "<matplotlib.figure.Figure at 0x129c2b630>"
      ]
     },
     "metadata": {},
     "output_type": "display_data"
    }
   ],
   "source": [
    "from sklearn.utils import shuffle\n",
    "\n",
    "### Preprocess the data here. Preprocessing steps could include normalization, converting to grayscale, etc.\n",
    "### Feel free to use as many code cells as needed.\n",
    "\n",
    "#SN??: LeNet-Lab-Solution.ipynb does not seem to have a proprocessing \n",
    "#      step.  Should we look into the codes for Project 2 (image classification)\n",
    "#      of the deep learning foundations nanodegree instead?\n",
    "\n",
    "import cv2\n",
    "import tensorflow as tf\n",
    "\n",
    "def preprocess(x):\n",
    "    #SN: Turn images into grey-scale ones\n",
    "    #: x: List of image data.  The image shape is (None, 32, 32, 3)\n",
    "    y = np.zeros((x.shape[0], x.shape[1], x.shape[2], 1))\n",
    "    for i in range(0, x.shape[0]):\n",
    "        image = cv2.cvtColor(x[i], cv2.COLOR_RGB2GRAY)\n",
    "        #print(image.shape)\n",
    "        image = np.reshape(image, (-1, 32, 32, 1))\n",
    "        #print(image.shape)\n",
    "        y[i] = image\n",
    "    \n",
    "    #SN: Normalize a list of sample image data in the range of 0 to 1\n",
    "    #: x: List of grey-scale image data.  The image shape is (None, 32, 32, 1)\n",
    "    #: return: Numpy array of normalized version of the grey-scale images\n",
    "    \n",
    "    #SN??: Why do we have to do grey-scale before normalization? Can it be the other way around?\n",
    "    \n",
    "    y=y.astype('float32')\n",
    "    #y/= 255.0\n",
    "    y = y/127.5 - 1.0\n",
    "    \n",
    "    return y\n",
    "\n",
    "#SN: Unit test\n",
    "#X_train_preprocd = X_train\n",
    "X_train_preprocd = preprocess(X_train)\n",
    "print(X_train_preprocd.shape)\n",
    "plt.figure(figsize=(5,5))\n",
    "plt.imshow(X_train[100].squeeze())\n",
    "plt.figure(figsize=(5,5))\n",
    "plt.imshow(X_train_preprocd[100].squeeze(), cmap='gray')\n",
    "\n",
    "print(np.max(X_train[100]))\n",
    "print(np.min(X_train[100]))\n",
    "print(np.max(X_train_preprocd[100]))\n",
    "print(np.min(X_train_preprocd[100]))\n",
    "#plt.imshow(X_train_preprocd[0].squeeze())\n",
    "\n",
    "X_train_preprocd, y_train = shuffle(X_train_preprocd, y_train)"
   ]
  },
  {
   "cell_type": "markdown",
   "metadata": {
    "deletable": true,
    "editable": true
   },
   "source": [
    "### Model Architecture"
   ]
  },
  {
   "cell_type": "code",
   "execution_count": 5,
   "metadata": {
    "collapsed": true
   },
   "outputs": [],
   "source": [
    "import tensorflow as tf\n",
    "\n",
    "EPOCHS = 75\n",
    "BATCH_SIZE = 128\n",
    "#BATCH_SIZE = 256"
   ]
  },
  {
   "cell_type": "code",
   "execution_count": 6,
   "metadata": {
    "collapsed": true,
    "deletable": true,
    "editable": true
   },
   "outputs": [],
   "source": [
    "### Define your architecture here.\n",
    "### Feel free to use as many code cells as needed.\n",
    "\n",
    "from tensorflow.contrib.layers import flatten\n",
    "\n",
    "def LeNet(x):    \n",
    "    # Arguments used for tf.truncated_normal, randomly defines variables for the weights and biases for each layer\n",
    "    mu = 0\n",
    "    sigma = 0.1\n",
    "    \n",
    "    # SOLUTION: Layer 1: Convolutional. Input = 32x32x1. Output = 28x28x6.\n",
    "    # Output height (width) = (input height (width) - filter height (width) + 1)/stride = 32-5+1/1 = 28\n",
    "    # SN: Change input depth to 3 for Project 2 for Traffic Classifier, as the traffic sign images \n",
    "    # are colored instead of grey-scale for MNIST\n",
    "    conv1_W = tf.Variable(tf.truncated_normal(shape=(5, 5, 1, 6), mean = mu, stddev = sigma))\n",
    "    #conv1_W = tf.Variable(tf.truncated_normal(shape=(5, 5, 3, 6), mean = mu, stddev = sigma))\n",
    "    conv1_b = tf.Variable(tf.zeros(6))\n",
    "    conv1   = tf.nn.conv2d(x, conv1_W, strides=[1, 1, 1, 1], padding='VALID') + conv1_b\n",
    "\n",
    "    # SOLUTION: Activation.\n",
    "    conv1 = tf.nn.relu(conv1)\n",
    "\n",
    "    # SOLUTION: Pooling. Input = 28x28x6. Output = 14x14x6.\n",
    "    conv1 = tf.nn.max_pool(conv1, ksize=[1, 2, 2, 1], strides=[1, 2, 2, 1], padding='VALID')\n",
    "\n",
    "    # SOLUTION: Layer 2: Convolutional. Output = 10x10x16.\n",
    "    conv2_W = tf.Variable(tf.truncated_normal(shape=(5, 5, 6, 16), mean = mu, stddev = sigma))\n",
    "    conv2_b = tf.Variable(tf.zeros(16))\n",
    "    conv2   = tf.nn.conv2d(conv1, conv2_W, strides=[1, 1, 1, 1], padding='VALID') + conv2_b\n",
    "    \n",
    "    # SOLUTION: Activation.\n",
    "    conv2 = tf.nn.relu(conv2)\n",
    "\n",
    "    # SOLUTION: Pooling. Input = 10x10x16. Output = 5x5x16.\n",
    "    conv2 = tf.nn.max_pool(conv2, ksize=[1, 2, 2, 1], strides=[1, 2, 2, 1], padding='VALID')\n",
    "\n",
    "    # SOLUTION: Flatten. Input = 5x5x16. Output = 400.\n",
    "    fc0   = flatten(conv2)\n",
    "    \n",
    "    # SOLUTION: Layer 3: Fully Connected. Input = 400. Output = 120.\n",
    "    fc1_W = tf.Variable(tf.truncated_normal(shape=(400, 120), mean = mu, stddev = sigma))\n",
    "    fc1_b = tf.Variable(tf.zeros(120))\n",
    "    fc1   = tf.matmul(fc0, fc1_W) + fc1_b\n",
    "    \n",
    "    # SOLUTION: Activation.\n",
    "    fc1    = tf.nn.relu(fc1)\n",
    "\n",
    "    # SOLUTION: Layer 4: Fully Connected. Input = 120. Output = 84.\n",
    "    fc2_W  = tf.Variable(tf.truncated_normal(shape=(120, 84), mean = mu, stddev = sigma))\n",
    "    fc2_b  = tf.Variable(tf.zeros(84))\n",
    "    fc2    = tf.matmul(fc1, fc2_W) + fc2_b\n",
    "    \n",
    "    # SOLUTION: Activation.\n",
    "    fc2    = tf.nn.relu(fc2)\n",
    "    \n",
    "    #SN: Adding dropout to get to 93% accuracy\n",
    "    \n",
    "    # best so far is keep_prob = 0.5, 50 epoches, 128 batch size, with mean shifting and normalization\n",
    "    fc2 = tf.nn.dropout(fc2, keep_prob=0.5)   #get to about 92% without mean shifting, and 92-93% with mean shifting\n",
    "    #fc2 = tf.nn.dropout(fc2, keep_prob=0.7)   #get to about 92% without mean shifting\n",
    "    #fc2 = tf.nn.dropout(fc2, keep_prob=0.8)   #very bad with mean shifting and normalization\n",
    "    #fc2 = tf.nn.dropout(fc2, keep_prob=0.2)   #worse than 0.5, 0.7 with mean shifting and batch size = 256\n",
    "    #fc2 = tf.nn.dropout(fc2, keep_prob=0.2)   #better with mean shifting than without\n",
    "\n",
    "\n",
    "\n",
    "    # SOLUTION: Layer 5: Fully Connected. Input = 84. Output = 10.\n",
    "    # SN: Change output dimension to 43 for Project 2 for Traffic Classifier, as there are 43 classes \n",
    "    # of traffic signs unlike 10 for MNSIT digit classification\n",
    "    #fc3_W  = tf.Variable(tf.truncated_normal(shape=(84, 10), mean = mu, stddev = sigma))\n",
    "    fc3_W  = tf.Variable(tf.truncated_normal(shape=(84, 43), mean = mu, stddev = sigma))        \n",
    "    #fc3_b  = tf.Variable(tf.zeros(10))\n",
    "    fc3_b  = tf.Variable(tf.zeros(43))\n",
    "    logits = tf.matmul(fc2, fc3_W) + fc3_b\n",
    "    \n",
    "    return logits"
   ]
  },
  {
   "cell_type": "markdown",
   "metadata": {
    "deletable": true,
    "editable": true
   },
   "source": [
    "### Train, Validate and Test the Model"
   ]
  },
  {
   "cell_type": "code",
   "execution_count": 7,
   "metadata": {
    "collapsed": true
   },
   "outputs": [],
   "source": [
    "#SN: Change 1 to 3 for Project 2\n",
    "x = tf.placeholder(tf.float32, (None, 32, 32, 1))\n",
    "#x = tf.placeholder(tf.float32, (None, 32, 32, 3))\n",
    "y = tf.placeholder(tf.int32, (None))\n",
    "#SN: Change 10 to 43 for Project 2\n",
    "#one_hot_y = tf.one_hot(y, 10)\n",
    "one_hot_y = tf.one_hot(y, 43)"
   ]
  },
  {
   "cell_type": "code",
   "execution_count": 8,
   "metadata": {
    "collapsed": false
   },
   "outputs": [],
   "source": [
    "rate = 0.001\n",
    "\n",
    "logits = LeNet(x)\n",
    "cross_entropy = tf.nn.softmax_cross_entropy_with_logits(logits, one_hot_y)\n",
    "loss_operation = tf.reduce_mean(cross_entropy) #tf.reduce_mean averages all cross entropies from all the training data\n",
    "optimizer = tf.train.AdamOptimizer(learning_rate = rate)\n",
    "training_operation = optimizer.minimize(loss_operation)"
   ]
  },
  {
   "cell_type": "code",
   "execution_count": 9,
   "metadata": {
    "collapsed": true
   },
   "outputs": [],
   "source": [
    "correct_prediction = tf.equal(tf.argmax(logits, 1), tf.argmax(one_hot_y, 1))\n",
    "accuracy_operation = tf.reduce_mean(tf.cast(correct_prediction, tf.float32))\n",
    "saver = tf.train.Saver()\n",
    "\n",
    "def evaluate(X_data, y_data):\n",
    "    num_examples = len(X_data)\n",
    "    total_accuracy = 0\n",
    "    sess = tf.get_default_session()\n",
    "    for offset in range(0, num_examples, BATCH_SIZE):\n",
    "        batch_x, batch_y = X_data[offset:offset+BATCH_SIZE], y_data[offset:offset+BATCH_SIZE]\n",
    "        accuracy = sess.run(accuracy_operation, feed_dict={x: batch_x, y: batch_y})\n",
    "        total_accuracy += (accuracy * len(batch_x))\n",
    "    return total_accuracy / num_examples"
   ]
  },
  {
   "cell_type": "markdown",
   "metadata": {
    "deletable": true,
    "editable": true
   },
   "source": [
    "A validation set can be used to assess how well the model is performing. A low accuracy on the training and validation\n",
    "sets imply underfitting. A high accuracy on the training set but low accuracy on the validation set implies overfitting."
   ]
  },
  {
   "cell_type": "code",
   "execution_count": 10,
   "metadata": {
    "collapsed": false,
    "deletable": true,
    "editable": true
   },
   "outputs": [
    {
     "name": "stdout",
     "output_type": "stream",
     "text": [
      "Training...\n",
      "\n",
      "EPOCH 1 ...\n",
      "Validation Accuracy = 0.584\n",
      "\n",
      "EPOCH 2 ...\n",
      "Validation Accuracy = 0.749\n",
      "\n",
      "EPOCH 3 ...\n",
      "Validation Accuracy = 0.806\n",
      "\n",
      "EPOCH 4 ...\n",
      "Validation Accuracy = 0.820\n",
      "\n",
      "EPOCH 5 ...\n",
      "Validation Accuracy = 0.851\n",
      "\n",
      "EPOCH 6 ...\n",
      "Validation Accuracy = 0.865\n",
      "\n",
      "EPOCH 7 ...\n",
      "Validation Accuracy = 0.875\n",
      "\n",
      "EPOCH 8 ...\n",
      "Validation Accuracy = 0.885\n",
      "\n",
      "EPOCH 9 ...\n",
      "Validation Accuracy = 0.895\n",
      "\n",
      "EPOCH 10 ...\n",
      "Validation Accuracy = 0.905\n",
      "\n",
      "EPOCH 11 ...\n",
      "Validation Accuracy = 0.906\n",
      "\n",
      "EPOCH 12 ...\n",
      "Validation Accuracy = 0.906\n",
      "\n",
      "EPOCH 13 ...\n",
      "Validation Accuracy = 0.898\n",
      "\n",
      "EPOCH 14 ...\n",
      "Validation Accuracy = 0.905\n",
      "\n",
      "EPOCH 15 ...\n",
      "Validation Accuracy = 0.906\n",
      "\n",
      "EPOCH 16 ...\n",
      "Validation Accuracy = 0.914\n",
      "\n",
      "EPOCH 17 ...\n",
      "Validation Accuracy = 0.909\n",
      "\n",
      "EPOCH 18 ...\n",
      "Validation Accuracy = 0.907\n",
      "\n",
      "EPOCH 19 ...\n",
      "Validation Accuracy = 0.910\n",
      "\n",
      "EPOCH 20 ...\n",
      "Validation Accuracy = 0.915\n",
      "\n",
      "EPOCH 21 ...\n",
      "Validation Accuracy = 0.910\n",
      "\n",
      "EPOCH 22 ...\n",
      "Validation Accuracy = 0.906\n",
      "\n",
      "EPOCH 23 ...\n",
      "Validation Accuracy = 0.921\n",
      "\n",
      "EPOCH 24 ...\n",
      "Validation Accuracy = 0.921\n",
      "\n",
      "EPOCH 25 ...\n",
      "Validation Accuracy = 0.912\n",
      "\n",
      "EPOCH 26 ...\n",
      "Validation Accuracy = 0.926\n",
      "\n",
      "EPOCH 27 ...\n",
      "Validation Accuracy = 0.920\n",
      "\n",
      "EPOCH 28 ...\n",
      "Validation Accuracy = 0.921\n",
      "\n",
      "EPOCH 29 ...\n",
      "Validation Accuracy = 0.922\n",
      "\n",
      "EPOCH 30 ...\n",
      "Validation Accuracy = 0.930\n",
      "\n",
      "EPOCH 31 ...\n",
      "Validation Accuracy = 0.919\n",
      "\n",
      "EPOCH 32 ...\n",
      "Validation Accuracy = 0.923\n",
      "\n",
      "EPOCH 33 ...\n",
      "Validation Accuracy = 0.921\n",
      "\n",
      "EPOCH 34 ...\n",
      "Validation Accuracy = 0.927\n",
      "\n",
      "EPOCH 35 ...\n",
      "Validation Accuracy = 0.922\n",
      "\n",
      "EPOCH 36 ...\n",
      "Validation Accuracy = 0.925\n",
      "\n",
      "EPOCH 37 ...\n",
      "Validation Accuracy = 0.924\n",
      "\n",
      "EPOCH 38 ...\n",
      "Validation Accuracy = 0.929\n",
      "\n",
      "EPOCH 39 ...\n",
      "Validation Accuracy = 0.929\n",
      "\n",
      "EPOCH 40 ...\n",
      "Validation Accuracy = 0.937\n",
      "\n",
      "EPOCH 41 ...\n",
      "Validation Accuracy = 0.930\n",
      "\n",
      "EPOCH 42 ...\n",
      "Validation Accuracy = 0.929\n",
      "\n",
      "EPOCH 43 ...\n",
      "Validation Accuracy = 0.928\n",
      "\n",
      "EPOCH 44 ...\n",
      "Validation Accuracy = 0.928\n",
      "\n",
      "EPOCH 45 ...\n",
      "Validation Accuracy = 0.939\n",
      "\n",
      "EPOCH 46 ...\n",
      "Validation Accuracy = 0.928\n",
      "\n",
      "EPOCH 47 ...\n",
      "Validation Accuracy = 0.935\n",
      "\n",
      "EPOCH 48 ...\n",
      "Validation Accuracy = 0.932\n",
      "\n",
      "EPOCH 49 ...\n",
      "Validation Accuracy = 0.930\n",
      "\n",
      "EPOCH 50 ...\n",
      "Validation Accuracy = 0.939\n",
      "\n",
      "EPOCH 51 ...\n",
      "Validation Accuracy = 0.934\n",
      "\n",
      "EPOCH 52 ...\n",
      "Validation Accuracy = 0.936\n",
      "\n",
      "EPOCH 53 ...\n",
      "Validation Accuracy = 0.936\n",
      "\n",
      "EPOCH 54 ...\n",
      "Validation Accuracy = 0.929\n",
      "\n",
      "EPOCH 55 ...\n",
      "Validation Accuracy = 0.929\n",
      "\n",
      "EPOCH 56 ...\n",
      "Validation Accuracy = 0.925\n",
      "\n",
      "EPOCH 57 ...\n",
      "Validation Accuracy = 0.931\n",
      "\n",
      "EPOCH 58 ...\n",
      "Validation Accuracy = 0.940\n",
      "\n",
      "EPOCH 59 ...\n",
      "Validation Accuracy = 0.935\n",
      "\n",
      "EPOCH 60 ...\n",
      "Validation Accuracy = 0.935\n",
      "\n",
      "EPOCH 61 ...\n",
      "Validation Accuracy = 0.934\n",
      "\n",
      "EPOCH 62 ...\n",
      "Validation Accuracy = 0.926\n",
      "\n",
      "EPOCH 63 ...\n",
      "Validation Accuracy = 0.938\n",
      "\n",
      "EPOCH 64 ...\n",
      "Validation Accuracy = 0.929\n",
      "\n",
      "EPOCH 65 ...\n",
      "Validation Accuracy = 0.940\n",
      "\n",
      "EPOCH 66 ...\n",
      "Validation Accuracy = 0.937\n",
      "\n",
      "EPOCH 67 ...\n",
      "Validation Accuracy = 0.942\n",
      "\n",
      "EPOCH 68 ...\n",
      "Validation Accuracy = 0.939\n",
      "\n",
      "EPOCH 69 ...\n",
      "Validation Accuracy = 0.928\n",
      "\n",
      "EPOCH 70 ...\n",
      "Validation Accuracy = 0.937\n",
      "\n",
      "EPOCH 71 ...\n",
      "Validation Accuracy = 0.938\n",
      "\n",
      "EPOCH 72 ...\n",
      "Validation Accuracy = 0.932\n",
      "\n",
      "EPOCH 73 ...\n",
      "Validation Accuracy = 0.938\n",
      "\n",
      "EPOCH 74 ...\n",
      "Validation Accuracy = 0.933\n",
      "\n",
      "EPOCH 75 ...\n",
      "Validation Accuracy = 0.936\n",
      "\n",
      "Model saved\n"
     ]
    }
   ],
   "source": [
    "### Train your model here.\n",
    "### Calculate and report the accuracy on the training and validation set.\n",
    "### Once a final model architecture is selected, \n",
    "### the accuracy on the test set should be calculated and reported as well.\n",
    "### Feel free to use as many code cells as needed.\n",
    "with tf.Session() as sess:\n",
    "    sess.run(tf.global_variables_initializer())\n",
    "    #num_examples = len(X_train)\n",
    "    num_examples = len(X_train_preprocd)\n",
    "    \n",
    "    print(\"Training...\")\n",
    "    print()\n",
    "    for i in range(EPOCHS):\n",
    "        #X_train, y_train = shuffle(X_train, y_train)\n",
    "        X_train_preprocd, y_train = shuffle(X_train_preprocd, y_train)\n",
    "        for offset in range(0, num_examples, BATCH_SIZE):\n",
    "            end = offset + BATCH_SIZE\n",
    "            #batch_x, batch_y = X_train[offset:end], y_train[offset:end]\n",
    "            batch_x, batch_y = X_train_preprocd[offset:end], y_train[offset:end]\n",
    "            sess.run(training_operation, feed_dict={x: batch_x, y: batch_y})\n",
    "            \n",
    "        #validation_accuracy = evaluate(X_validation, y_validation)\n",
    "        #validation_accuracy = evaluate(X_valid, y_valid)\n",
    "        validation_accuracy = evaluate(preprocess(X_valid), y_valid)\n",
    "        \n",
    "        print(\"EPOCH {} ...\".format(i+1))\n",
    "        print(\"Validation Accuracy = {:.3f}\".format(validation_accuracy))\n",
    "        print()\n",
    "        \n",
    "    saver.save(sess, './lenet')\n",
    "    print(\"Model saved\")"
   ]
  },
  {
   "cell_type": "markdown",
   "metadata": {
    "deletable": true,
    "editable": true
   },
   "source": [
    "---\n",
    "\n",
    "## Step 3: Test a Model on New Images\n",
    "\n",
    "To give yourself more insight into how your model is working, download at least five pictures of German traffic signs from the web and use your model to predict the traffic sign type.\n",
    "\n",
    "You may find `signnames.csv` useful as it contains mappings from the class id (integer) to the actual sign name."
   ]
  },
  {
   "cell_type": "markdown",
   "metadata": {
    "deletable": true,
    "editable": true
   },
   "source": [
    "### Load and Output the Images"
   ]
  },
  {
   "cell_type": "code",
   "execution_count": 11,
   "metadata": {
    "collapsed": false,
    "deletable": true,
    "editable": true
   },
   "outputs": [
    {
     "name": "stdout",
     "output_type": "stream",
     "text": [
      "[[ 4779  5768 10202 12030  5254]]\n",
      "(32, 32, 3)\n",
      "(1, 32, 32, 3)\n",
      "(32, 32, 3)\n",
      "(1, 32, 32, 3)\n",
      "(32, 32, 3)\n",
      "(1, 32, 32, 3)\n",
      "(32, 32, 3)\n",
      "(1, 32, 32, 3)\n",
      "(32, 32, 3)\n",
      "(1, 32, 32, 3)\n",
      "(5120,)\n",
      "(5, 32, 32, 1)\n"
     ]
    },
    {
     "data": {
      "text/plain": [
       "<matplotlib.image.AxesImage at 0x109dfb748>"
      ]
     },
     "execution_count": 11,
     "metadata": {},
     "output_type": "execute_result"
    },
    {
     "data": {
      "image/png": "[encoded data removed]",
      "text/plain": [
       "<matplotlib.figure.Figure at 0x10ae9f2b0>"
      ]
     },
     "metadata": {},
     "output_type": "display_data"
    },
    {
     "data": {
      "image/png": "[encoded data removed]",
      "text/plain": [
       "<matplotlib.figure.Figure at 0x10aedb518>"
      ]
     },
     "metadata": {},
     "output_type": "display_data"
    },
    {
     "data": {
      "image/png": "[encoded data removed]",
      "text/plain": [
       "<matplotlib.figure.Figure at 0x10af25ba8>"
      ]
     },
     "metadata": {},
     "output_type": "display_data"
    },
    {
     "data": {
      "image/png": "[encoded data removed]",
      "text/plain": [
       "<matplotlib.figure.Figure at 0x10af59400>"
      ]
     },
     "metadata": {},
     "output_type": "display_data"
    },
    {
     "data": {
      "image/png": "[encoded data removed]",
      "text/plain": [
       "<matplotlib.figure.Figure at 0x10afc6208>"
      ]
     },
     "metadata": {},
     "output_type": "display_data"
    },
    {
     "data": {
      "image/png": "[encoded data removed]",
      "text/plain": [
       "<matplotlib.figure.Figure at 0x10b5054a8>"
      ]
     },
     "metadata": {},
     "output_type": "display_data"
    },
    {
     "data": {
      "image/png": "[encoded data removed]",
      "text/plain": [
       "<matplotlib.figure.Figure at 0x10b54f5c0>"
      ]
     },
     "metadata": {},
     "output_type": "display_data"
    },
    {
     "data": {
      "image/png": "[encoded data removed]",
      "text/plain": [
       "<matplotlib.figure.Figure at 0x1092b58d0>"
      ]
     },
     "metadata": {},
     "output_type": "display_data"
    },
    {
     "data": {
      "image/png": "[encoded data removed]",
      "text/plain": [
       "<matplotlib.figure.Figure at 0x1092ffa90>"
      ]
     },
     "metadata": {},
     "output_type": "display_data"
    },
    {
     "data": {
      "image/png": "[encoded data removed]",
      "text/plain": [
       "<matplotlib.figure.Figure at 0x1091f6c18>"
      ]
     },
     "metadata": {},
     "output_type": "display_data"
    }
   ],
   "source": [
    "### Load the images and plot them here.\n",
    "### Feel free to use as many code cells as needed.\n",
    "\n",
    "\"\"\"Approach 1\n",
    "import matplotlib.image as mpimg\n",
    "filenames = ['./fivemore/classID-1.png','./fivemore/classID-17.png','./fivemore/classID-20.png','./fivemore/classID-29.png','./fivemore/classID-40.png']\n",
    "images = []\n",
    "for filename in filenames:\n",
    "    image = mpimg.imread(filename)\n",
    "    images.append(image)\n",
    "images_array = np.asarray(images)    \n",
    "\"\"\"\n",
    "\n",
    "\"\"\"Approach 2\n",
    "import numpy as np\n",
    "from PIL import Image\n",
    "import pandas as pd\n",
    "inputfile = pd.read_csv('./Online-Test/Images/GT-online_test.test.csv', sep = \";\")\n",
    "img_array = np.array([])\n",
    "img = np.array([])\n",
    "cls_array = np.array([])\n",
    "\n",
    "a = np.random.random_integers(1,12568,(1,5))\n",
    "print(a)\n",
    "for i in range(0,5):\n",
    "    #Store the string of the filename\n",
    "    readimage = './Online-Test/Images/' + inputfile.Filename[a[0,i]]\n",
    "    # read image and resize\n",
    "    ximg = Image.open(readimage)\n",
    "    ximg = ximg.resize((32,32), Image.ANTIALIAS) \n",
    "    # convert image to array and add images\n",
    "    img = np.asarray(ximg)\n",
    "    img_array = np.append(img_array, img)\n",
    "    #cls_array = np.append(cls_array, inputfile.ClassId[a[0,i]])\n",
    "print(img_array.shape)\n",
    "img_array = np.reshape(img_array, [5, 32, 32, 3])\n",
    "#img_array = tf.reshape(img_array, [5, 32, 32, 3])\n",
    "#img_array = tf.to_float(img_array)\n",
    "plt.imshow(ximg)\n",
    "print(img_array.shape)\n",
    "#print(cls_array)\n",
    "\"\"\"\n",
    "\n",
    "import numpy as np\n",
    "from PIL import Image\n",
    "import pandas as pd\n",
    "inputfile = pd.read_csv('./Online-Test/Images/GT-online_test.test.csv', sep = \";\")\n",
    "img_array = np.array([])\n",
    "img = np.array([])\n",
    "cls_array = np.array([])\n",
    "\n",
    "#a = np.random.random_integers(1,12568,(1,5))\n",
    "a = np.array([[4779, 5768, 10202, 12030, 5254]])\n",
    "print(a)\n",
    "for i in range(0,5):\n",
    "    #Store the string of the filename\n",
    "    readimage = './Online-Test/Images/' + inputfile.Filename[a[0,i]]\n",
    "    # read image and resize\n",
    "    ximg = Image.open(readimage)\n",
    "    ximg = ximg.resize((32,32), Image.ANTIALIAS) \n",
    "    plt.figure(figsize=(5,5))\n",
    "    plt.imshow(ximg)\n",
    "    # convert image to array and add images\n",
    "    img = np.asarray(ximg)\n",
    "    print(img.shape)\n",
    "    img = np.reshape(img, [1, 32, 32, 3])\n",
    "    print(img.shape)\n",
    "    img_array = np.append(img_array, preprocess(img))\n",
    "    #cls_array = np.append(cls_array, inputfile.ClassId[a[0,i]])\n",
    "print(img_array.shape)\n",
    "img_array = np.reshape(img_array, [5, 32, 32, 1])\n",
    "#img_array = tf.reshape(img_array, [5, 32, 32, 3])\n",
    "#img_array = tf.to_float(img_array)\n",
    "print(img_array.shape)\n",
    "\n",
    "plt.figure(figsize=(5,5))\n",
    "plt.imshow(img_array[0].squeeze())\n",
    "plt.figure(figsize=(5,5))\n",
    "plt.imshow(img_array[1].squeeze())\n",
    "plt.figure(figsize=(5,5))\n",
    "plt.imshow(img_array[2].squeeze())\n",
    "plt.figure(figsize=(5,5))\n",
    "plt.imshow(img_array[3].squeeze())\n",
    "plt.figure(figsize=(5,5))\n",
    "plt.imshow(img_array[4].squeeze())"
   ]
  },
  {
   "cell_type": "markdown",
   "metadata": {
    "deletable": true,
    "editable": true
   },
   "source": [
    "### Predict the Sign Type for Each Image"
   ]
  },
  {
   "cell_type": "code",
   "execution_count": 12,
   "metadata": {
    "collapsed": false,
    "deletable": true,
    "editable": true
   },
   "outputs": [],
   "source": [
    "### Run the predictions here and use the model to output the prediction for each image.\n",
    "### Make sure to pre-process the images with the same pre-processing pipeline used earlier.\n",
    "### Feel free to use as many code cells as needed.\n",
    "\n",
    "\"\"\"#Best results so far\n",
    "x2 = tf.placeholder(tf.float32, (None, 32, 32, 1))\n",
    "logits2 = LeNet(x2)\n",
    "softmax = tf.nn.softmax(logits2)\n",
    "pred = tf.nn.top_k(softmax, 5)\n",
    "sess2 = tf.get_default_session()\n",
    "\n",
    "with tf.Session() as sess2:\n",
    "    sess2.run(tf.global_variables_initializer())    \n",
    "    saver.restore(sess2, tf.train.latest_checkpoint('.'))\n",
    "    #test_accuracy = evaluate(images, labels)\n",
    "    #print(\"Test Accuracy = {:.3f}\".format(test_accuracy))\n",
    "    \n",
    "    #result = sess.run(pred, feed_dict={x: images,keep_prob: 1.})\n",
    "    \n",
    "    result = sess2.run(pred, feed_dict={x2: img_array})\n",
    "    predictions  = result.values\n",
    "    predictionIndicies  = result.indices\n",
    "\"\"\"\n",
    "    \n",
    "\n",
    "\"\"\"\n",
    "x2 = tf.placeholder(tf.float32, (None, 32, 32, 1))\n",
    "logits2 = LeNet(x2)\n",
    "softmax = tf.nn.softmax(logits2)\n",
    "pred = tf.nn.top_k(softmax, 5)\n",
    "with tf.Session() as sess:\n",
    "    saver.restore(sess, tf.train.latest_checkpoint('.'))\n",
    "    #test_accuracy = evaluate(images, labels)\n",
    "    #print(\"Test Accuracy = {:.3f}\".format(test_accuracy))\n",
    "    \n",
    "    #result = sess.run(pred, feed_dict={x: images,keep_prob: 1.})\n",
    "    \n",
    "    result = sess.run(pred, feed_dict={x2: img_array})\n",
    "    predictions  = result.values\n",
    "    predictionIndicies  = result.indices\n",
    "\"\"\"\n",
    "\n",
    "softmax = tf.nn.softmax(logits)\n",
    "pred = tf.nn.top_k(softmax, 5)\n",
    "with tf.Session() as sess:\n",
    "    saver.restore(sess, tf.train.latest_checkpoint('.'))\n",
    "    #test_accuracy = evaluate(images, labels)\n",
    "    #print(\"Test Accuracy = {:.3f}\".format(test_accuracy))\n",
    "    \n",
    "    #result = sess.run(pred, feed_dict={x: images,keep_prob: 1.})\n",
    "    \n",
    "    result = sess.run(pred, feed_dict={x: img_array})\n",
    "    predictions  = result.values\n",
    "    predictionIndicies  = result.indices\n",
    "\n"
   ]
  },
  {
   "cell_type": "markdown",
   "metadata": {
    "deletable": true,
    "editable": true
   },
   "source": [
    "### Analyze Performance"
   ]
  },
  {
   "cell_type": "code",
   "execution_count": 13,
   "metadata": {
    "collapsed": false,
    "deletable": true,
    "editable": true
   },
   "outputs": [
    {
     "name": "stdout",
     "output_type": "stream",
     "text": [
      "[[10 16 42  0  1]\n",
      " [25 33 14 20 22]\n",
      " [22 20 29 26 36]\n",
      " [ 1  0  2  3  4]\n",
      " [ 9 10 16 19  3]]\n"
     ]
    }
   ],
   "source": [
    "### Calculate the accuracy for these 5 new images. \n",
    "### For example, if the model predicted 1 out of 5 signs correctly, it's 20% accurate on these new images.\n",
    "print(predictionIndicies)\n"
   ]
  },
  {
   "cell_type": "markdown",
   "metadata": {
    "deletable": true,
    "editable": true
   },
   "source": [
    "### Output Top 5 Softmax Probabilities For Each Image Found on the Web"
   ]
  },
  {
   "cell_type": "markdown",
   "metadata": {
    "deletable": true,
    "editable": true
   },
   "source": [
    "For each of the new images, print out the model's softmax probabilities to show the **certainty** of the model's predictions (limit the output to the top 5 probabilities for each image). [`tf.nn.top_k`](https://www.tensorflow.org/versions/r0.12/api_docs/python/nn.html#top_k) could prove helpful here. \n",
    "\n",
    "The example below demonstrates how tf.nn.top_k can be used to find the top k predictions for each image.\n",
    "\n",
    "`tf.nn.top_k` will return the values and indices (class ids) of the top k predictions. So if k=3, for each sign, it'll return the 3 largest probabilities (out of a possible 43) and the correspoding class ids.\n",
    "\n",
    "Take this numpy array as an example. The values in the array represent predictions. The array contains softmax probabilities for five candidate images with six possible classes. `tk.nn.top_k` is used to choose the three classes with the highest probability:\n",
    "\n",
    "```\n",
    "# (5, 6) array\n",
    "a = np.array([[ 0.24879643,  0.07032244,  0.12641572,  0.34763842,  0.07893497,\n",
    "         0.12789202],\n",
    "       [ 0.28086119,  0.27569815,  0.08594638,  0.0178669 ,  0.18063401,\n",
    "         0.15899337],\n",
    "       [ 0.26076848,  0.23664738,  0.08020603,  0.07001922,  0.1134371 ,\n",
    "         0.23892179],\n",
    "       [ 0.11943333,  0.29198961,  0.02605103,  0.26234032,  0.1351348 ,\n",
    "         0.16505091],\n",
    "       [ 0.09561176,  0.34396535,  0.0643941 ,  0.16240774,  0.24206137,\n",
    "         0.09155967]])\n",
    "```\n",
    "\n",
    "Running it through `sess.run(tf.nn.top_k(tf.constant(a), k=3))` produces:\n",
    "\n",
    "```\n",
    "TopKV2(values=array([[ 0.34763842,  0.24879643,  0.12789202],\n",
    "       [ 0.28086119,  0.27569815,  0.18063401],\n",
    "       [ 0.26076848,  0.23892179,  0.23664738],\n",
    "       [ 0.29198961,  0.26234032,  0.16505091],\n",
    "       [ 0.34396535,  0.24206137,  0.16240774]]), indices=array([[3, 0, 5],\n",
    "       [0, 1, 4],\n",
    "       [0, 5, 1],\n",
    "       [1, 3, 5],\n",
    "       [1, 4, 3]], dtype=int32))\n",
    "```\n",
    "\n",
    "Looking just at the first row we get `[ 0.34763842,  0.24879643,  0.12789202]`, you can confirm these are the 3 largest probabilities in `a`. You'll also notice `[3, 0, 5]` are the corresponding indices."
   ]
  },
  {
   "cell_type": "code",
   "execution_count": 14,
   "metadata": {
    "collapsed": false,
    "deletable": true,
    "editable": true
   },
   "outputs": [
    {
     "name": "stdout",
     "output_type": "stream",
     "text": [
      "[[  1.00000000e+00   4.09746532e-25   6.87358340e-36   0.00000000e+00\n",
      "    0.00000000e+00]\n",
      " [  1.00000000e+00   9.91191463e-26   5.17616321e-26   2.61124456e-31\n",
      "    2.21581320e-31]\n",
      " [  1.00000000e+00   4.90310736e-10   1.74539064e-11   7.02026284e-12\n",
      "    7.26596463e-13]\n",
      " [  1.00000000e+00   0.00000000e+00   0.00000000e+00   0.00000000e+00\n",
      "    0.00000000e+00]\n",
      " [  1.00000000e+00   7.91261280e-16   8.06010670e-20   1.01400657e-28\n",
      "    5.42730334e-34]]\n"
     ]
    }
   ],
   "source": [
    "### Print out the top five softmax probabilities for the predictions on the German traffic sign images found on the web. \n",
    "### Feel free to use as many code cells as needed.\n",
    "print(predictions)"
   ]
  },
  {
   "cell_type": "markdown",
   "metadata": {
    "deletable": true,
    "editable": true
   },
   "source": [
    "---\n",
    "\n",
    "## Step 4: Visualize the Neural Network's State with Test Images\n",
    "\n",
    " This Section is not required to complete but acts as an additional excersise for understaning the output of a neural network's weights. While neural networks can be a great learning device they are often referred to as a black box. We can understand what the weights of a neural network look like better by plotting their feature maps. After successfully training your neural network you can see what it's feature maps look like by plotting the output of the network's weight layers in response to a test stimuli image. From these plotted feature maps, it's possible to see what characteristics of an image the network finds interesting. For a sign, maybe the inner network feature maps react with high activation to the sign's boundary outline or to the contrast in the sign's painted symbol.\n",
    "\n",
    " Provided for you below is the function code that allows you to get the visualization output of any tensorflow weight layer you want. The inputs to the function should be a stimuli image, one used during training or a new one you provided, and then the tensorflow variable name that represents the layer's state during the training process, for instance if you wanted to see what the [LeNet lab's](https://classroom.udacity.com/nanodegrees/nd013/parts/fbf77062-5703-404e-b60c-95b78b2f3f9e/modules/6df7ae49-c61c-4bb2-a23e-6527e69209ec/lessons/601ae704-1035-4287-8b11-e2c2716217ad/concepts/d4aca031-508f-4e0b-b493-e7b706120f81) feature maps looked like for it's second convolutional layer you could enter conv2 as the tf_activation variable.\n",
    "\n",
    "For an example of what feature map outputs look like, check out NVIDIA's results in their paper [End-to-End Deep Learning for Self-Driving Cars](https://devblogs.nvidia.com/parallelforall/deep-learning-self-driving-cars/) in the section Visualization of internal CNN State. NVIDIA was able to show that their network's inner weights had high activations to road boundary lines by comparing feature maps from an image with a clear path to one without. Try experimenting with a similar test to show that your trained network's weights are looking for interesting features, whether it's looking at differences in feature maps from images with or without a sign, or even what feature maps look like in a trained network vs a completely untrained one on the same sign image.\n",
    "\n",
    "<figure>\n",
    " <img src=\"visualize_cnn.png\" width=\"380\" alt=\"Combined Image\" />\n",
    " <figcaption>\n",
    " <p></p> \n",
    " <p style=\"text-align: center;\"> Your output should look something like this (above)</p> \n",
    " </figcaption>\n",
    "</figure>\n",
    " <p></p> \n"
   ]
  },
  {
   "cell_type": "code",
   "execution_count": null,
   "metadata": {
    "collapsed": true,
    "deletable": true,
    "editable": true
   },
   "outputs": [],
   "source": [
    "### Visualize your network's feature maps here.\n",
    "### Feel free to use as many code cells as needed.\n",
    "\n",
    "# image_input: the test image being fed into the network to produce the feature maps\n",
    "# tf_activation: should be a tf variable name used during your training procedure that represents the calculated state of a specific weight layer\n",
    "# activation_min/max: can be used to view the activation contrast in more detail, by default matplot sets min and max to the actual min and max values of the output\n",
    "# plt_num: used to plot out multiple different weight feature map sets on the same block, just extend the plt number for each new feature map entry\n",
    "\n",
    "def outputFeatureMap(image_input, tf_activation, activation_min=-1, activation_max=-1 ,plt_num=1):\n",
    "    # Here make sure to preprocess your image_input in a way your network expects\n",
    "    # with size, normalization, ect if needed\n",
    "    # image_input =\n",
    "    # Note: x should be the same name as your network's tensorflow data placeholder variable\n",
    "    # If you get an error tf_activation is not defined it maybe having trouble accessing the variable from inside a function\n",
    "    activation = tf_activation.eval(session=sess,feed_dict={x : image_input})\n",
    "    featuremaps = activation.shape[3]\n",
    "    plt.figure(plt_num, figsize=(15,15))\n",
    "    for featuremap in range(featuremaps):\n",
    "        plt.subplot(6,8, featuremap+1) # sets the number of feature maps to show on each row and column\n",
    "        plt.title('FeatureMap ' + str(featuremap)) # displays the feature map number\n",
    "        if activation_min != -1 & activation_max != -1:\n",
    "            plt.imshow(activation[0,:,:, featuremap], interpolation=\"nearest\", vmin =activation_min, vmax=activation_max, cmap=\"gray\")\n",
    "        elif activation_max != -1:\n",
    "            plt.imshow(activation[0,:,:, featuremap], interpolation=\"nearest\", vmax=activation_max, cmap=\"gray\")\n",
    "        elif activation_min !=-1:\n",
    "            plt.imshow(activation[0,:,:, featuremap], interpolation=\"nearest\", vmin=activation_min, cmap=\"gray\")\n",
    "        else:\n",
    "            plt.imshow(activation[0,:,:, featuremap], interpolation=\"nearest\", cmap=\"gray\")"
   ]
  },
  {
   "cell_type": "markdown",
   "metadata": {
    "deletable": true,
    "editable": true
   },
   "source": [
    "### Question 9\n",
    "\n",
    "Discuss how you used the visual output of your trained network's feature maps to show that it had learned to look for interesting characteristics in traffic sign images\n"
   ]
  },
  {
   "cell_type": "markdown",
   "metadata": {
    "deletable": true,
    "editable": true
   },
   "source": [
    "**Answer:**"
   ]
  },
  {
   "cell_type": "markdown",
   "metadata": {
    "deletable": true,
    "editable": true
   },
   "source": [
    "> **Note**: Once you have completed all of the code implementations and successfully answered each question above, you may finalize your work by exporting the iPython Notebook as an HTML document. You can do this by using the menu above and navigating to  \\n\",\n",
    "    \"**File -> Download as -> HTML (.html)**. Include the finished document along with this notebook as your submission."
   ]
  },
  {
   "cell_type": "markdown",
   "metadata": {
    "deletable": true,
    "editable": true
   },
   "source": [
    "### Project Writeup\n",
    "\n",
    "Once you have completed the code implementation, document your results in a project writeup using this [template](https://github.com/udacity/CarND-Traffic-Sign-Classifier-Project/blob/master/writeup_template.md) as a guide. The writeup can be in a markdown or pdf file. "
   ]
  }
 ],
 "metadata": {
  "anaconda-cloud": {},
  "kernelspec": {
   "display_name": "Python 3",
   "language": "python",
   "name": "python3"
  },
  "language_info": {
   "codemirror_mode": {
    "name": "ipython",
    "version": 3
   },
   "file_extension": ".py",
   "mimetype": "text/x-python",
   "name": "python",
   "nbconvert_exporter": "python",
   "pygments_lexer": "ipython3",
   "version": "3.5.2"
  },
  "widgets": {
   "state": {},
   "version": "1.1.2"
  }
 },
 "nbformat": 4,
 "nbformat_minor": 1
}
